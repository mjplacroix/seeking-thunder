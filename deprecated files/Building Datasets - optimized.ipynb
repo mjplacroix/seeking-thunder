{
 "cells": [
  {
   "cell_type": "code",
   "execution_count": 1,
   "id": "5f96083d",
   "metadata": {},
   "outputs": [],
   "source": [
    "import requests\n",
    "import json\n",
    "import datetime\n",
    "import pandas as pd"
   ]
  },
  {
   "cell_type": "markdown",
   "id": "a3fa8f37",
   "metadata": {},
   "source": [
    "### Important \n",
    "\n",
    "[Sign up here](https://www.alphavantage.co/support/#api-key) to get your API key and run the following code - it's free with a limit of 25 calls per day. "
   ]
  },
  {
   "cell_type": "code",
   "execution_count": 3,
   "id": "07d64dd3",
   "metadata": {},
   "outputs": [],
   "source": [
    "# Replace with your Alpha Vantage API key\n",
    "import api\n",
    "API_KEY = api.key"
   ]
  },
  {
   "cell_type": "markdown",
   "id": "fb78b509",
   "metadata": {},
   "source": [
    "### Building \"Rolling Thunder\" data\n",
    "- retrieves 1 month of intraday data \n",
    "- at the 1min level \n",
    "- over normal and extended trading hours (4a-8p)"
   ]
  },
  {
   "cell_type": "code",
   "execution_count": 4,
   "id": "926be007",
   "metadata": {},
   "outputs": [],
   "source": [
    "# Define function to download intraday data\n",
    "# outputsize=\"compact\" vs outputsize=\"full\"\n",
    "def get_intraday_data(ticker, month, interval=\"1min\", outputsize=\"full\"):\n",
    "    \"\"\"\n",
    "    This function retrieves intraday data for a stock using Alpha Vantage API.\n",
    "\n",
    "    Args:\n",
    "      symbol (str): The ticker symbol of the stock.\n",
    "      interval (str, optional): The data interval. Defaults to \"1min\".\n",
    "      outputsize (str, optional): The data output size. Defaults to \"compact\".\n",
    "\n",
    "    Returns:\n",
    "      dict: A dictionary containing the retrieved intraday data (if successful), \n",
    "            or None if an error occurs.\n",
    "    \"\"\"\n",
    "\n",
    "    # Base URL for the API call\n",
    "    base_url = f\"https://www.alphavantage.co/query?function=TIME_SERIES_INTRADAY&symbol={ticker}&interval={interval}&month={month}&outputsize={outputsize}&apikey={API_KEY}\"\n",
    "    print(\"Click on this to see webpage version: \", base_url)\n",
    "    # Make the API request\n",
    "    response = requests.get(base_url)\n",
    "\n",
    "    # Check for successful response\n",
    "    if response.status_code == 200:\n",
    "        return json.loads(response.text)\n",
    "    else:\n",
    "        print(f\"Error: {response.status_code}\")\n",
    "        return None"
   ]
  },
  {
   "cell_type": "code",
   "execution_count": 5,
   "id": "f5ba0d5f",
   "metadata": {},
   "outputs": [
    {
     "data": {
      "text/html": [
       "<div>\n",
       "<style scoped>\n",
       "    .dataframe tbody tr th:only-of-type {\n",
       "        vertical-align: middle;\n",
       "    }\n",
       "\n",
       "    .dataframe tbody tr th {\n",
       "        vertical-align: top;\n",
       "    }\n",
       "\n",
       "    .dataframe thead th {\n",
       "        text-align: right;\n",
       "    }\n",
       "</style>\n",
       "<table border=\"1\" class=\"dataframe\">\n",
       "  <thead>\n",
       "    <tr style=\"text-align: right;\">\n",
       "      <th></th>\n",
       "      <th>ticker</th>\n",
       "      <th>date</th>\n",
       "      <th>time</th>\n",
       "      <th>price</th>\n",
       "    </tr>\n",
       "  </thead>\n",
       "  <tbody>\n",
       "  </tbody>\n",
       "</table>\n",
       "</div>"
      ],
      "text/plain": [
       "Empty DataFrame\n",
       "Columns: [ticker, date, time, price]\n",
       "Index: []"
      ]
     },
     "execution_count": 5,
     "metadata": {},
     "output_type": "execute_result"
    }
   ],
   "source": [
    "# create dataframe to store data while looping through each company\n",
    "cols = ['ticker', 'date', 'time', 'price']\n",
    "df_intraday = pd.DataFrame(columns=cols) \n",
    "\n",
    "# confirm dataframe is empty on first go through\n",
    "# will need to import once already being built rather than start from scratch\n",
    "df_intraday"
   ]
  },
  {
   "cell_type": "markdown",
   "id": "51a4afa3",
   "metadata": {},
   "source": [
    "# NOTE:\n",
    "\n",
    "highly recommend changing the stock tickers below as we already have those listed"
   ]
  },
  {
   "cell_type": "code",
   "execution_count": 6,
   "id": "528df4bf",
   "metadata": {},
   "outputs": [],
   "source": [
    "# Define ticker symbol and desired timeframe\n",
    "tickers = ['AAPL', 'META', 'NVDA'] #can change to anything\n",
    "months = ['2024-01', '2024-02', '2024-03', '2024-04']"
   ]
  },
  {
   "cell_type": "code",
   "execution_count": 10,
   "id": "04daca41",
   "metadata": {},
   "outputs": [
    {
     "name": "stdout",
     "output_type": "stream",
     "text": [
      "Click on this to see webpage version:  https://www.alphavantage.co/query?function=TIME_SERIES_INTRADAY&symbol=AAPL&interval=1min&month=2024-01&outputsize=full&apikey=1UUWAC2NCHRN36MF\n",
      "Click on this to see webpage version:  https://www.alphavantage.co/query?function=TIME_SERIES_INTRADAY&symbol=AAPL&interval=1min&month=2024-02&outputsize=full&apikey=1UUWAC2NCHRN36MF\n",
      "Click on this to see webpage version:  https://www.alphavantage.co/query?function=TIME_SERIES_INTRADAY&symbol=AAPL&interval=1min&month=2024-03&outputsize=full&apikey=1UUWAC2NCHRN36MF\n",
      "Click on this to see webpage version:  https://www.alphavantage.co/query?function=TIME_SERIES_INTRADAY&symbol=AAPL&interval=1min&month=2024-04&outputsize=full&apikey=1UUWAC2NCHRN36MF\n",
      "Click on this to see webpage version:  https://www.alphavantage.co/query?function=TIME_SERIES_INTRADAY&symbol=META&interval=1min&month=2024-01&outputsize=full&apikey=1UUWAC2NCHRN36MF\n",
      "Click on this to see webpage version:  https://www.alphavantage.co/query?function=TIME_SERIES_INTRADAY&symbol=META&interval=1min&month=2024-02&outputsize=full&apikey=1UUWAC2NCHRN36MF\n",
      "Click on this to see webpage version:  https://www.alphavantage.co/query?function=TIME_SERIES_INTRADAY&symbol=META&interval=1min&month=2024-03&outputsize=full&apikey=1UUWAC2NCHRN36MF\n",
      "Click on this to see webpage version:  https://www.alphavantage.co/query?function=TIME_SERIES_INTRADAY&symbol=META&interval=1min&month=2024-04&outputsize=full&apikey=1UUWAC2NCHRN36MF\n",
      "Click on this to see webpage version:  https://www.alphavantage.co/query?function=TIME_SERIES_INTRADAY&symbol=NVDA&interval=1min&month=2024-01&outputsize=full&apikey=1UUWAC2NCHRN36MF\n",
      "Click on this to see webpage version:  https://www.alphavantage.co/query?function=TIME_SERIES_INTRADAY&symbol=NVDA&interval=1min&month=2024-02&outputsize=full&apikey=1UUWAC2NCHRN36MF\n",
      "Click on this to see webpage version:  https://www.alphavantage.co/query?function=TIME_SERIES_INTRADAY&symbol=NVDA&interval=1min&month=2024-03&outputsize=full&apikey=1UUWAC2NCHRN36MF\n",
      "Click on this to see webpage version:  https://www.alphavantage.co/query?function=TIME_SERIES_INTRADAY&symbol=NVDA&interval=1min&month=2024-04&outputsize=full&apikey=1UUWAC2NCHRN36MF\n"
     ]
    }
   ],
   "source": [
    "start = datetime.datetime.now()\n",
    "\n",
    "# Download intraday data\n",
    "for ticker in tickers:\n",
    "    for month in months:\n",
    "        intraday_data = get_intraday_data(ticker, month)\n",
    "\n",
    "        # Access the 'Time Series (1min)' section\n",
    "        time_series = intraday_data['Time Series (1min)']\n",
    "        \n",
    "        new_row_list = []\n",
    "\n",
    "        # Loop through each date-time key in the time series\n",
    "        for date_time, prices in time_series.items():\n",
    "            # Split the date-time string to get date and time separately\n",
    "            date, time = date_time.split(\" \")\n",
    "            # Extract date, time, and open price\n",
    "            open_price = prices['1. open']\n",
    "            ## Print the formatted output\n",
    "            # print(f\"Ticker: {symbol}, Date: {date}, Time: {time}, Open Price: {open_price}\")\n",
    "\n",
    "            new_row_data = {'ticker': ticker,\n",
    "                          'date': date, \n",
    "                          'time': time, \n",
    "                          'price': open_price}\n",
    "            new_row_list.append(new_row_data)\n",
    "\n",
    "        df_month = pd.DataFrame(new_row_list)  # Create DataFrame for the month's data\n",
    "    \n",
    "        # after running this, my guess is that pd.concat is actually an expensive operation\n",
    "        # might make more sense to build a new dataframe for each ticker, then add to the bigger one\n",
    "        df_intraday = pd.concat([df_intraday, df_month], ignore_index=True) "
   ]
  },
  {
   "cell_type": "code",
   "execution_count": 11,
   "id": "91e28187",
   "metadata": {},
   "outputs": [
    {
     "name": "stdout",
     "output_type": "stream",
     "text": [
      "(236388, 4)\n"
     ]
    },
    {
     "data": {
      "text/html": [
       "<div>\n",
       "<style scoped>\n",
       "    .dataframe tbody tr th:only-of-type {\n",
       "        vertical-align: middle;\n",
       "    }\n",
       "\n",
       "    .dataframe tbody tr th {\n",
       "        vertical-align: top;\n",
       "    }\n",
       "\n",
       "    .dataframe thead th {\n",
       "        text-align: right;\n",
       "    }\n",
       "</style>\n",
       "<table border=\"1\" class=\"dataframe\">\n",
       "  <thead>\n",
       "    <tr style=\"text-align: right;\">\n",
       "      <th></th>\n",
       "      <th>ticker</th>\n",
       "      <th>date</th>\n",
       "      <th>time</th>\n",
       "      <th>price</th>\n",
       "    </tr>\n",
       "  </thead>\n",
       "  <tbody>\n",
       "    <tr>\n",
       "      <th>0</th>\n",
       "      <td>AAPL</td>\n",
       "      <td>2024-01-31</td>\n",
       "      <td>19:59:00</td>\n",
       "      <td>185.5340</td>\n",
       "    </tr>\n",
       "    <tr>\n",
       "      <th>1</th>\n",
       "      <td>AAPL</td>\n",
       "      <td>2024-01-31</td>\n",
       "      <td>19:58:00</td>\n",
       "      <td>185.3640</td>\n",
       "    </tr>\n",
       "    <tr>\n",
       "      <th>2</th>\n",
       "      <td>AAPL</td>\n",
       "      <td>2024-01-31</td>\n",
       "      <td>19:57:00</td>\n",
       "      <td>185.2840</td>\n",
       "    </tr>\n",
       "    <tr>\n",
       "      <th>3</th>\n",
       "      <td>AAPL</td>\n",
       "      <td>2024-01-31</td>\n",
       "      <td>19:56:00</td>\n",
       "      <td>185.2740</td>\n",
       "    </tr>\n",
       "    <tr>\n",
       "      <th>4</th>\n",
       "      <td>AAPL</td>\n",
       "      <td>2024-01-31</td>\n",
       "      <td>19:55:00</td>\n",
       "      <td>185.2540</td>\n",
       "    </tr>\n",
       "  </tbody>\n",
       "</table>\n",
       "</div>"
      ],
      "text/plain": [
       "  ticker        date      time     price\n",
       "0   AAPL  2024-01-31  19:59:00  185.5340\n",
       "1   AAPL  2024-01-31  19:58:00  185.3640\n",
       "2   AAPL  2024-01-31  19:57:00  185.2840\n",
       "3   AAPL  2024-01-31  19:56:00  185.2740\n",
       "4   AAPL  2024-01-31  19:55:00  185.2540"
      ]
     },
     "execution_count": 11,
     "metadata": {},
     "output_type": "execute_result"
    }
   ],
   "source": [
    "print(df_intraday.shape)\n",
    "df_intraday.head()"
   ]
  },
  {
   "cell_type": "code",
   "execution_count": 12,
   "id": "3be2a905",
   "metadata": {},
   "outputs": [],
   "source": [
    "filename = '-'.join(tickers)\n",
    "\n",
    "df_intraday.to_csv(f'{filename}_intraday_data.csv')"
   ]
  },
  {
   "cell_type": "markdown",
   "id": "97d9a5f7",
   "metadata": {},
   "source": [
    "### Building \"Moving Avg-Mean Regression\" data\n",
    "- retrieves daily data (open, low, high close)\n",
    "- for the past 20 years or the company's listing lifetime (whichever is shorter)\n"
   ]
  },
  {
   "cell_type": "code",
   "execution_count": 13,
   "id": "55e73f45",
   "metadata": {},
   "outputs": [],
   "source": [
    "# Define function to download intraday data\n",
    "# outputsize=\"compact\" vs outputsize=\"full\"\n",
    "def get_open_close_data(ticker, outputsize=\"full\"):\n",
    "    \"\"\"\n",
    "    This function retrieves intraday data for a stock using Alpha Vantage API.\n",
    "\n",
    "    Args:\n",
    "      symbol (str): The ticker symbol of the stock.\n",
    "      outputsize (str, optional): The data output size. Defaults to \"compact\".\n",
    "\n",
    "    Returns:\n",
    "      dict: A dictionary containing the retrieved intraday data (if successful), \n",
    "            or None if an error occurs.\n",
    "    \"\"\"\n",
    "\n",
    "    # Base URL for the API call\n",
    "    base_url = f\"https://www.alphavantage.co/query?function=TIME_SERIES_DAILY&symbol={ticker}&outputsize={outputsize}&apikey={API_KEY}\"\n",
    "    print(\"Click on this to see webpage version: \", base_url)\n",
    "    # Make the API request\n",
    "    response = requests.get(base_url)\n",
    "\n",
    "    # Check for successful response\n",
    "    if response.status_code == 200:\n",
    "        return json.loads(response.text)\n",
    "    else:\n",
    "        print(f\"Error: {response.status_code}\")\n",
    "        return None"
   ]
  },
  {
   "cell_type": "code",
   "execution_count": 14,
   "id": "47d2ee1e",
   "metadata": {},
   "outputs": [
    {
     "data": {
      "text/html": [
       "<div>\n",
       "<style scoped>\n",
       "    .dataframe tbody tr th:only-of-type {\n",
       "        vertical-align: middle;\n",
       "    }\n",
       "\n",
       "    .dataframe tbody tr th {\n",
       "        vertical-align: top;\n",
       "    }\n",
       "\n",
       "    .dataframe thead th {\n",
       "        text-align: right;\n",
       "    }\n",
       "</style>\n",
       "<table border=\"1\" class=\"dataframe\">\n",
       "  <thead>\n",
       "    <tr style=\"text-align: right;\">\n",
       "      <th></th>\n",
       "      <th>ticker</th>\n",
       "      <th>date</th>\n",
       "      <th>open</th>\n",
       "      <th>high</th>\n",
       "      <th>low</th>\n",
       "      <th>close</th>\n",
       "    </tr>\n",
       "  </thead>\n",
       "  <tbody>\n",
       "  </tbody>\n",
       "</table>\n",
       "</div>"
      ],
      "text/plain": [
       "Empty DataFrame\n",
       "Columns: [ticker, date, open, high, low, close]\n",
       "Index: []"
      ]
     },
     "execution_count": 14,
     "metadata": {},
     "output_type": "execute_result"
    }
   ],
   "source": [
    "# create dataframe to store data while looping through each company\n",
    "cols = ['ticker', 'date', 'open', 'high', 'low', 'close']\n",
    "df_daily = pd.DataFrame(columns=cols) \n",
    "\n",
    "# confirm dataframe is empty on first go through\n",
    "# will need to import once already being built rather than start from scratch\n",
    "df_daily"
   ]
  },
  {
   "cell_type": "markdown",
   "id": "bb4bf616",
   "metadata": {},
   "source": [
    "# NOTE:\n",
    "\n",
    "highly recommend changing the stock tickers below as we already have those listed"
   ]
  },
  {
   "cell_type": "code",
   "execution_count": 5,
   "id": "a5fb4f31",
   "metadata": {},
   "outputs": [],
   "source": [
    "tickers = ['BA', 'F', 'TSLA'] #can change to anything"
   ]
  },
  {
   "cell_type": "code",
   "execution_count": null,
   "id": "e9857543",
   "metadata": {},
   "outputs": [],
   "source": [
    "for ticker in tickers:\n",
    "    # Download intraday data\n",
    "    daily_data = get_open_close_data(ticker)\n",
    "    \n",
    "    new_row_list = []\n",
    "    \n",
    "    # Access the 'Time Series (Daily)' section\n",
    "    daily_data = daily_data['Time Series (Daily)']\n",
    "    \n",
    "    # Loop through each date in the daily data\n",
    "    for date, prices in daily_data.items():\n",
    "        # Extract open, high, low, and close prices\n",
    "        open_price = prices['1. open']\n",
    "        high_price = prices['2. high']\n",
    "        low_price = prices['3. low']\n",
    "        close_price = prices['4. close']\n",
    "\n",
    "#         # Print all data on the same line, separated by commas\n",
    "#         print(f\"{date}, {open_price}, {high_price}, {low_price}, {close_price}\")\n",
    "        new_row_data = {'ticker': ticker,\n",
    "                        'date': date, \n",
    "                        'open': open_price, \n",
    "                        'high': high_price, \n",
    "                        'low': low_price, \n",
    "                        'close': close_price}\n",
    "    \n",
    "        new_row_list.append(new_row_data)\n",
    "    \n",
    "    \n",
    "    df_month = pd.DataFrame(new_row_list)# Create DataFrame for this tickers data\n",
    "    \n",
    "    df_daily = pd.concat([df_daily, df_month], ignore_index=True) "
   ]
  },
  {
   "cell_type": "code",
   "execution_count": null,
   "id": "6bd3a0b9",
   "metadata": {},
   "outputs": [],
   "source": [
    "print(df_daily.shape)\n",
    "df_daily.head()"
   ]
  },
  {
   "cell_type": "code",
   "execution_count": null,
   "id": "b4759d29",
   "metadata": {},
   "outputs": [],
   "source": [
    "df_daily['ticker'].value_counts()"
   ]
  },
  {
   "cell_type": "code",
   "execution_count": null,
   "id": "29446628",
   "metadata": {},
   "outputs": [],
   "source": [
    "filename = '-'.join(tickers)\n",
    "\n",
    "df_daily.to_csv(f'{filename}_daily_data.csv')"
   ]
  },
  {
   "cell_type": "code",
   "execution_count": null,
   "id": "97f20598",
   "metadata": {},
   "outputs": [],
   "source": []
  }
 ],
 "metadata": {
  "kernelspec": {
   "display_name": "Python 3 (ipykernel)",
   "language": "python",
   "name": "python3"
  },
  "language_info": {
   "codemirror_mode": {
    "name": "ipython",
    "version": 3
   },
   "file_extension": ".py",
   "mimetype": "text/x-python",
   "name": "python",
   "nbconvert_exporter": "python",
   "pygments_lexer": "ipython3",
   "version": "3.11.9"
  }
 },
 "nbformat": 4,
 "nbformat_minor": 5
}
