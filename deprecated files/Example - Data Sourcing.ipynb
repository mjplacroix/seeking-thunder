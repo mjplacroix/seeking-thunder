{
 "cells": [
  {
   "cell_type": "code",
   "execution_count": null,
   "id": "5f96083d",
   "metadata": {},
   "outputs": [],
   "source": [
    "import requests\n",
    "import json\n",
    "import datetime"
   ]
  },
  {
   "cell_type": "markdown",
   "id": "a3fa8f37",
   "metadata": {},
   "source": [
    "### Important \n",
    "\n",
    "[Sign up here](https://www.alphavantage.co/support/#api-key) to get your API key and run the following code - it's free with a limit of 25 calls per day. "
   ]
  },
  {
   "cell_type": "code",
   "execution_count": null,
   "id": "07d64dd3",
   "metadata": {},
   "outputs": [],
   "source": [
    "# Replace with your Alpha Vantage API key\n",
    "API_KEY = \"enter-API-key-here\""
   ]
  },
  {
   "cell_type": "markdown",
   "id": "fb78b509",
   "metadata": {},
   "source": [
    "### Retrieving \"Rolling Thunder\" data\n",
    "- retrieves 1 month of intraday data \n",
    "- at the 1min level \n",
    "- over normal and extended trading hours (4a-8p)"
   ]
  },
  {
   "cell_type": "code",
   "execution_count": null,
   "id": "60d4fd4c",
   "metadata": {},
   "outputs": [],
   "source": [
    "# Define function to download intraday data\n",
    "# outputsize=\"compact\" vs outputsize=\"full\"\n",
    "def get_intraday_data(symbol, month, interval=\"1min\", outputsize=\"full\"):\n",
    "    \"\"\"\n",
    "    This function retrieves intraday data for a stock using Alpha Vantage API.\n",
    "\n",
    "    Args:\n",
    "      symbol (str): The ticker symbol of the stock.\n",
    "      interval (str, optional): The data interval. Defaults to \"1min\".\n",
    "      outputsize (str, optional): The data output size. Defaults to \"compact\".\n",
    "\n",
    "    Returns:\n",
    "      dict: A dictionary containing the retrieved intraday data (if successful), \n",
    "            or None if an error occurs.\n",
    "    \"\"\"\n",
    "\n",
    "    # Base URL for the API call\n",
    "    base_url = f\"https://www.alphavantage.co/query?function=TIME_SERIES_INTRADAY&symbol={symbol}&interval={interval}&month={month}&outputsize={outputsize}&apikey={API_KEY}\"\n",
    "    print(\"Click on this to see webpage version: \", base_url)\n",
    "    # Make the API request\n",
    "    response = requests.get(base_url)\n",
    "\n",
    "    # Check for successful response\n",
    "    if response.status_code == 200:\n",
    "        return json.loads(response.text)\n",
    "    else:\n",
    "        print(f\"Error: {response.status_code}\")\n",
    "        return None"
   ]
  },
  {
   "cell_type": "code",
   "execution_count": null,
   "id": "528df4bf",
   "metadata": {},
   "outputs": [],
   "source": [
    "# Define ticker symbol and desired timeframe\n",
    "symbol = \"BA\" #Boeing - can change to anything\n",
    "month = '2024-03'\n",
    "\n",
    "# Download intraday data\n",
    "intraday_data = get_intraday_data(symbol, month)"
   ]
  },
  {
   "cell_type": "code",
   "execution_count": null,
   "id": "8ab72fe7",
   "metadata": {},
   "outputs": [],
   "source": [
    "# take a look at what's returned \n",
    "intraday_data"
   ]
  },
  {
   "cell_type": "code",
   "execution_count": null,
   "id": "82278877",
   "metadata": {},
   "outputs": [],
   "source": [
    "# Access the 'Time Series (1min)' section\n",
    "time_series = intraday_data['Time Series (1min)']"
   ]
  },
  {
   "cell_type": "code",
   "execution_count": null,
   "id": "30ec8119",
   "metadata": {},
   "outputs": [],
   "source": [
    "# Loop through each date-time key in the time series\n",
    "for date_time, prices in time_series.items():\n",
    "  # Split the date-time string to get date and time separately\n",
    "  date, time = date_time.split(\" \")\n",
    "  # Extract date, time, and open price\n",
    "  open_price = prices['1. open']\n",
    "  # Print the formatted output\n",
    "  print(f\"Date: {date}, Time: {time}, Open Price: {open_price}\")"
   ]
  },
  {
   "cell_type": "markdown",
   "id": "97d9a5f7",
   "metadata": {},
   "source": [
    "### Retrieving \"Moving Avg-Mean Regression\" data\n"
   ]
  },
  {
   "cell_type": "code",
   "execution_count": null,
   "id": "55e73f45",
   "metadata": {},
   "outputs": [],
   "source": [
    "# Define function to download intraday data\n",
    "# outputsize=\"compact\" vs outputsize=\"full\"\n",
    "def get_open_close_data(symbol, outputsize=\"full\"):\n",
    "    \"\"\"\n",
    "    This function retrieves intraday data for a stock using Alpha Vantage API.\n",
    "\n",
    "    Args:\n",
    "      symbol (str): The ticker symbol of the stock.\n",
    "      outputsize (str, optional): The data output size. Defaults to \"compact\".\n",
    "\n",
    "    Returns:\n",
    "      dict: A dictionary containing the retrieved intraday data (if successful), \n",
    "            or None if an error occurs.\n",
    "    \"\"\"\n",
    "\n",
    "    # Base URL for the API call\n",
    "    base_url = f\"https://www.alphavantage.co/query?function=TIME_SERIES_DAILY&symbol={symbol}&outputsize={outputsize}&apikey={API_KEY}\"\n",
    "    print(\"Click on this to see webpage version: \", base_url)\n",
    "    # Make the API request\n",
    "    response = requests.get(base_url)\n",
    "\n",
    "    # Check for successful response\n",
    "    if response.status_code == 200:\n",
    "        return json.loads(response.text)\n",
    "    else:\n",
    "        print(f\"Error: {response.status_code}\")\n",
    "        return None"
   ]
  },
  {
   "cell_type": "code",
   "execution_count": null,
   "id": "6571f026",
   "metadata": {},
   "outputs": [],
   "source": [
    "# Define ticker symbol and desired timeframe\n",
    "symbol = \"BA\" #Boeing - can change to anything\n",
    "\n",
    "# Download intraday data\n",
    "daily_data = get_open_close_data(symbol)"
   ]
  },
  {
   "cell_type": "code",
   "execution_count": null,
   "id": "5bd50c3e",
   "metadata": {},
   "outputs": [],
   "source": [
    "# take a look at what's returned \n",
    "daily_data"
   ]
  },
  {
   "cell_type": "code",
   "execution_count": null,
   "id": "62e4446a",
   "metadata": {},
   "outputs": [],
   "source": [
    "# Access the 'Time Series (Daily)' section\n",
    "daily_data = daily_data['Time Series (Daily)']"
   ]
  },
  {
   "cell_type": "code",
   "execution_count": null,
   "id": "cf9a8708",
   "metadata": {},
   "outputs": [],
   "source": [
    "# Loop through each date in the daily data\n",
    "for date, prices in daily_data.items():\n",
    "  # Extract open, high, low, and close prices\n",
    "  open_price = prices['1. open']\n",
    "  high_price = prices['2. high']\n",
    "  low_price = prices['3. low']\n",
    "  close_price = prices['4. close']\n",
    "\n",
    "  # Print all data on the same line, separated by commas\n",
    "  print(f\"{date}, {open_price}, {high_price}, {low_price}, {close_price}\")"
   ]
  },
  {
   "cell_type": "code",
   "execution_count": null,
   "id": "97f20598",
   "metadata": {},
   "outputs": [],
   "source": []
  }
 ],
 "metadata": {
  "kernelspec": {
   "display_name": "Python 3 (ipykernel)",
   "language": "python",
   "name": "python3"
  },
  "language_info": {
   "codemirror_mode": {
    "name": "ipython",
    "version": 3
   },
   "file_extension": ".py",
   "mimetype": "text/x-python",
   "name": "python",
   "nbconvert_exporter": "python",
   "pygments_lexer": "ipython3",
   "version": "3.11.7"
  }
 },
 "nbformat": 4,
 "nbformat_minor": 5
}
